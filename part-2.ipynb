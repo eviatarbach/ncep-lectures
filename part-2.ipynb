{
 "cells": [
  {
   "cell_type": "markdown",
   "metadata": {},
   "source": [
    "# NetCDF and self-describing datasets\n",
    "\n",
    "Eviatar Bach ([eviatarbach@protonmail.com](mailto:eviatarbach@protonmail.com)), based heavily on the originals by Rebekah Esmaili [bekah@umd.edu](mailto:bekah@umd.edu)\n",
    "\n",
    "University of Maryland, College Park\n",
    "\n",
    "Code, Data, and Installation Guide: [https://ter.ps/agupy](https://ter.ps/agupy)\n"
   ]
  },
  {
   "cell_type": "markdown",
   "metadata": {},
   "source": [
    "## Examining the 2018 California Wildfires from Space\n",
    "\n",
    "* 6,870 fires had burned over a 6,000 km${^2}$ area. \n",
    "* The smoke from the wildfires also had an impact on air quality both in proximity of the fires as well as across the country.\n",
    "* We'll look at satellite observations from __Suomi-NPP__ and __GOES-17__ to show the impact of the California wildfires on AOD.\n",
    "\n",
    "![](img/satellites.png)"
   ]
  },
  {
   "cell_type": "markdown",
   "metadata": {},
   "source": [
    "We're in the golden age of sallite datasets, which is a blessing and a curse:\n",
    "\n",
    "* Inundated with datasets, don't know which ones to use\n",
    "* No single repository for access of the data\n",
    "* Inconsistent formatting and filetypes\n",
    "\n",
    "netCDF4 and HDF5 are the dominant formats used in satellite remote sensing (but others do exist)"
   ]
  },
  {
   "cell_type": "markdown",
   "metadata": {},
   "source": [
    "## netCDF Primer\n",
    "\n",
    "* Hosted by the Unidata program at the University Corporation for Atmospheric Research (UCAR)\n",
    "* NetCDF (Network Common Data Form) a set of software libraries and self-describing, machine-independent data formats\n",
    "* Support the creation, access, and sharing of array-oriented scientific data"
   ]
  },
  {
   "cell_type": "markdown",
   "metadata": {},
   "source": [
    "Advantages: \n",
    "* Open source and free\n",
    "* Provides standard formatting for Earth science data\n",
    "* Compression helps with long-term file storage\n",
    "* Includes additional metadata\n",
    "\n",
    "Disadvantages: \n",
    "* There is a steeper learning curve for working with self-describing file formats"
   ]
  },
  {
   "cell_type": "markdown",
   "metadata": {},
   "source": [
    "## Panoply\n",
    "* Pronounced: Pan-OH-plee\n",
    "* A netCDF, HDF, KMZ, and GRIB data viewer\n",
    "* Free/open source for Linux, Mac, and Windows\n",
    "* Developed and maintained by Dr. Robert B. Schmunk of NASA/GISS\n",
    "\n",
    "Other display tools: \n",
    "\n",
    "* Free: HDFView, Ncview, QGIS, Explorer series\n",
    "* Not free: ENVI/IDL, MATLAB, ArcMap"
   ]
  },
  {
   "cell_type": "markdown",
   "metadata": {},
   "source": [
    "\n",
    "**Inspecting GOES-17 ABI files**\n",
    "\n",
    "---\n",
    "__Your legal disclaimer...__\n",
    "\"These GOES-17 data are preliminary, non-operational data and are undergoing testing. Users bear all responsibility for inspecting the data prior to use and for the manner in which the data are utilized.\"\n",
    "\n",
    "---\n",
    "\n",
    "1. Run Panoply\n",
    "\n",
    "2. Navigate to \"data/OR_ABI-L2-AODC-M3_G17_s20182211612186_e20182211614557_c20182211615551.nc.\"\n",
    "\n",
    "3. To make a plot:\n",
    "    * Variables that have “Geo2D” or “2D” types can be made into plots\n",
    "    * Double click on AOD\n",
    "    \n",
    "    * ![](img/pano-2.PNG)\n",
    "    * A window will pop up. Choose the first option and click “create” \n",
    "    * ![](img/pano-3.PNG)\n",
    "    * Now we have a map of AOD, but we need to adjust it a little bit.\n",
    "    * Below the plot, there is a menu where you can change the look, projection, and scale of the plot\n",
    "    * ![](img/pano-4.PNG)\n",
    "\n",
    "4. Some formatting options:\n",
    "    * Zoom: Control + left click and hold to highlight region\n",
    "    * Scale tab:\n",
    "        * Change Scale to 0-1\n",
    "        * Change color table to another palette\n",
    "        * Edit Captions\n",
    "    \n",
    "    * Map tab:\n",
    "        * Change map projection to orthographic \n",
    "    * ![](img/pano-5.PNG)\n",
    "\n",
    "5. Save Image\n",
    "    * If you're happy with the way it now looks File &rarr; Save Image\n",
    "    * Note: If you want to reuse this template: Plot &rarr; Save Plot Settings as Default \n",
    "    * ![](img/pano-6.PNG)"
   ]
  },
  {
   "cell_type": "markdown",
   "metadata": {},
   "source": [
    "## Importing netCDF files using Python\n",
    "The netCDF4 package is included in Anaconda Python. The main function is Dataset, which reads from an existing file:\n",
    "```\n",
    "file_id = Dataset(\"test.nc\", \"r\", format=\"NETCDF4\")\n",
    "```\n",
    "You can choose to 'w' (write), 'r' (read), or 'a'\n",
    "\n",
    "The foramts can be: NETCDF3_CLASSIC, NETCDF3_64BIT_OFFSET, NETCDF3_64BIT_DATA, NETCDF4_CLASSIC, and NETCDF4 (default)"
   ]
  },
  {
   "cell_type": "code",
   "execution_count": null,
   "metadata": {},
   "outputs": [],
   "source": [
    "from netCDF4 import Dataset"
   ]
  },
  {
   "cell_type": "code",
   "execution_count": 46,
   "metadata": {},
   "outputs": [],
   "source": [
    "# To open the files, call the Dataset constructor\n",
    "fname='data/JRR-AOD_v1r1_npp_s201808091955538_e201808091957180_c201808092049460.nc'\n",
    "file_id = Dataset(fname)"
   ]
  },
  {
   "cell_type": "code",
   "execution_count": 47,
   "metadata": {},
   "outputs": [
    {
     "data": {
      "text/plain": [
       "['Latitude',\n",
       " 'Longitude',\n",
       " 'StartRow',\n",
       " 'StartColumn',\n",
       " 'AOD550',\n",
       " 'AOD_channel',\n",
       " 'AngsExp1',\n",
       " 'AngsExp2',\n",
       " 'QCPath',\n",
       " 'AerMdl',\n",
       " 'FineMdlIdx',\n",
       " 'CoarseMdlIdx',\n",
       " 'FineModWgt',\n",
       " 'SfcRefl',\n",
       " 'SpaStddev',\n",
       " 'Residual',\n",
       " 'AOD550LndMdl',\n",
       " 'ResLndMdl',\n",
       " 'MeanAOD',\n",
       " 'HighQualityPct',\n",
       " 'RetrievalPct',\n",
       " 'QCRet',\n",
       " 'QCExtn',\n",
       " 'QCTest',\n",
       " 'QCInput',\n",
       " 'QCAll']"
      ]
     },
     "execution_count": 47,
     "metadata": {},
     "output_type": "execute_result"
    }
   ],
   "source": [
    "# Quickly inspect the contents\n",
    "list(file_id.variables.keys())"
   ]
  },
  {
   "cell_type": "code",
   "execution_count": 97,
   "metadata": {},
   "outputs": [
    {
     "name": "stdout",
     "output_type": "stream",
     "text": [
      "<class 'netCDF4._netCDF4.Variable'>\n"
     ]
    }
   ],
   "source": [
    "# Copy the AOD variable into an array object using .variables\n",
    "# The data can be imported as a netcdf variable:\n",
    "AOD550 = file_id.variables['AOD550']\n",
    "print(type(AOD550))"
   ]
  },
  {
   "cell_type": "code",
   "execution_count": 98,
   "metadata": {},
   "outputs": [
    {
     "data": {
      "text/plain": [
       "['long_name', 'coordinates', 'units', '_FillValue', 'valid_range']"
      ]
     },
     "execution_count": 98,
     "metadata": {},
     "output_type": "execute_result"
    }
   ],
   "source": [
    "# Inspect attributes using .ncattrs command\n",
    "list(file_id.variables['AOD550'].ncattrs())"
   ]
  },
  {
   "cell_type": "code",
   "execution_count": 99,
   "metadata": {},
   "outputs": [
    {
     "name": "stdout",
     "output_type": "stream",
     "text": [
      "0.41903266 0.38180444 1746384\n"
     ]
    }
   ],
   "source": [
    "# Get some very simple statistics by converting into a NumPy array\n",
    "import numpy as np\n",
    "\n",
    "AOD550 = np.array(AOD550)\n",
    "\n",
    "# Remove missing values\n",
    "missing = file_id.variables['AOD550']._FillValue\n",
    "keepRows = AOD550 != missing\n",
    "AOD550 = AOD550[keepRows]\n",
    "\n",
    "avgAOD = AOD550.mean()\n",
    "stdDev = AOD550.std()\n",
    "nAOD = AOD550.size\n",
    "\n",
    "print(avgAOD, stdDev, nAOD)"
   ]
  },
  {
   "cell_type": "code",
   "execution_count": 101,
   "metadata": {},
   "outputs": [
    {
     "name": "stdout",
     "output_type": "stream",
     "text": [
      "<class 'numpy.ndarray'>\n"
     ]
    }
   ],
   "source": [
    "# Note: importing using [:,:] turns the variable a numpy masked array\n",
    "AOD550 = file_id.variables['AOD550'][:,:]\n",
    "print(type(AOD550))"
   ]
  },
  {
   "cell_type": "code",
   "execution_count": 102,
   "metadata": {},
   "outputs": [
    {
     "name": "stdout",
     "output_type": "stream",
     "text": [
      "-289.09647 453.671 2457600\n"
     ]
    }
   ],
   "source": [
    "# Using masked arrays, missing values are automatically filtered...\n",
    "avgAOD = AOD550.mean()\n",
    "stdDev = AOD550.std()\n",
    "nAOD = AOD550.size\n",
    "\n",
    "print(avgAOD, stdDev, nAOD)"
   ]
  },
  {
   "cell_type": "code",
   "execution_count": 103,
   "metadata": {},
   "outputs": [],
   "source": [
    "# Close the file when you're done\n",
    "file_id.close()"
   ]
  },
  {
   "cell_type": "markdown",
   "metadata": {},
   "source": [
    "<div class=\"alert alert-block alert-info\">\n",
    "\n",
    "**Exercise 1**\n",
    "\n",
    "**Import netCDF file**\n",
    "\n",
    "using the Dataset command from the netcdf4 package, import:\n",
    "\n",
    "data/JRR-AOD_v1r1_npp_s201808091955538_e201808091957180_c201808092049460.nc \n",
    "\n",
    "\n",
    "**Inspect the list of variables**\n",
    "\n",
    "Get a list of variables after the file has been opening.\n",
    "\n",
    "**Inspect the attributes of a given variable**\n",
    "\n",
    "What are the attributes of the QCAll variable?\n",
    "\n",
    "</div>"
   ]
  },
  {
   "cell_type": "markdown",
   "metadata": {},
   "source": [
    "## Importing HDF files using Python\n",
    "\n",
    "Very similar process to netCDF. Looking at the mean monthly AOD for August, 2018 using the Deep Blue AOD retrieval (output from Panoply below)\n",
    "\n",
    "* ![](img/db.png)"
   ]
  },
  {
   "cell_type": "code",
   "execution_count": 104,
   "metadata": {},
   "outputs": [],
   "source": [
    "import h5py"
   ]
  },
  {
   "cell_type": "code",
   "execution_count": 105,
   "metadata": {},
   "outputs": [],
   "source": [
    "# Open the file\n",
    "fname='data/DeepBlue-SeaWiFS-1.0_L3M_201008_v004-20130604T140615Z.h5'\n",
    "file_id_DB = h5py.File(fname, 'r')"
   ]
  },
  {
   "cell_type": "code",
   "execution_count": 106,
   "metadata": {},
   "outputs": [
    {
     "data": {
      "text/plain": [
       "['aerosol_optical_thickness_550_count_land',\n",
       " 'aerosol_optical_thickness_550_count_land_ocean',\n",
       " 'aerosol_optical_thickness_550_count_ocean',\n",
       " 'aerosol_optical_thickness_550_land',\n",
       " 'aerosol_optical_thickness_550_land_ocean',\n",
       " 'aerosol_optical_thickness_550_ocean',\n",
       " 'aerosol_optical_thickness_550_stddev_land',\n",
       " 'aerosol_optical_thickness_550_stddev_land_ocean',\n",
       " 'aerosol_optical_thickness_550_stddev_ocean',\n",
       " 'aerosol_optical_thickness_count_land',\n",
       " 'aerosol_optical_thickness_count_ocean',\n",
       " 'aerosol_optical_thickness_land',\n",
       " 'aerosol_optical_thickness_ocean',\n",
       " 'aerosol_optical_thickness_stddev_land',\n",
       " 'aerosol_optical_thickness_stddev_ocean',\n",
       " 'angstrom_exponent_count_land',\n",
       " 'angstrom_exponent_count_land_ocean',\n",
       " 'angstrom_exponent_count_ocean',\n",
       " 'angstrom_exponent_land',\n",
       " 'angstrom_exponent_land_ocean',\n",
       " 'angstrom_exponent_ocean',\n",
       " 'angstrom_exponent_stddev_land',\n",
       " 'angstrom_exponent_stddev_land_ocean',\n",
       " 'angstrom_exponent_stddev_ocean',\n",
       " 'diagnostics',\n",
       " 'land_bands',\n",
       " 'latitude',\n",
       " 'longitude',\n",
       " 'ocean_bands',\n",
       " 'relative_azimuth_angle',\n",
       " 'scattering_angle',\n",
       " 'solar_zenith_angle',\n",
       " 'viewing_zenith_angle']"
      ]
     },
     "execution_count": 106,
     "metadata": {},
     "output_type": "execute_result"
    }
   ],
   "source": [
    "# Quickly inspect the contents...\n",
    "list(file_id_DB.keys())"
   ]
  },
  {
   "cell_type": "code",
   "execution_count": 107,
   "metadata": {},
   "outputs": [],
   "source": [
    "# Import the data...\n",
    "AOD = file_id_DB['aerosol_optical_thickness_550_land_ocean']\n",
    "\n",
    "# Check a value...\n",
    "#AOD[60, 300]"
   ]
  },
  {
   "cell_type": "code",
   "execution_count": 108,
   "metadata": {},
   "outputs": [
    {
     "data": {
      "text/plain": [
       "['long_name',\n",
       " 'standard_name',\n",
       " 'units',\n",
       " 'comment',\n",
       " '_FillValue',\n",
       " 'valid_range',\n",
       " 'DIMENSION_LIST']"
      ]
     },
     "execution_count": 108,
     "metadata": {},
     "output_type": "execute_result"
    }
   ],
   "source": [
    "list(AOD.attrs)"
   ]
  },
  {
   "cell_type": "code",
   "execution_count": 109,
   "metadata": {},
   "outputs": [
    {
     "data": {
      "text/plain": [
       "b'aerosol optical thickness estimated at 550 nm over land and ocean'"
      ]
     },
     "execution_count": 109,
     "metadata": {},
     "output_type": "execute_result"
    }
   ],
   "source": [
    "# To view the attribute\n",
    "AOD.attrs['long_name']"
   ]
  },
  {
   "cell_type": "markdown",
   "metadata": {},
   "source": [
    "## Other formats:\n",
    "* GRIB/GRIB2: World Meteorology Association standard format, e.g. commonly used with weather-related models like ECMWF and GFS. Can be opened using [pygrib](https://github.com/jswhit/pygrib)\n",
    "* BUFR: Another common model format. Open with [python-bufr](https://github.com/pytroll/python-bufr), part of the pytroll project."
   ]
  },
  {
   "cell_type": "markdown",
   "metadata": {},
   "source": [
    "## Resources\n",
    "\n",
    "Searchable satellite data:\n",
    "\n",
    "* [NOAA CLASS](https://www.avl.class.noaa.gov) Comprehensive Large Array-data Stewardship System (CLASS) is an electronic library of NOAA environmental data.\n",
    "* [NASA MIRDOR](https://mirador.gsfc.nasa.gov) is an electronic library of NASA environmental data. Most NASA satellite data are stored here.\n",
    "* [NASA Langley](https://eosweb.larc.nasa.gov) Atmospheric Science Data Center (ASDC) Distributed Active Archive Center (DAAC). Aerosols, clouds, radiation, and field campaign data.\n",
    "* [EUMETSAT](https://www.eumetsat.int/website/home/Data/DataDelivery/OnlineDataAccess/index.html)\n",
    "\n",
    "Other channels:\n",
    "\n",
    "* [Amazon Web Services](https://registry.opendata.aws/?search=earth%20observation) has GOES-16 radiance, Landsat, MODIS, and more \n",
    "* [python-AWIPS](https://python-awips.readthedocs.io/en/latest/) Has a good repository of atmospheric datasets\n",
    "* [Python Satellite Data Analysis Toolkit (pysat)](https://github.com/rstoneback) Can pull space science related datasets (e.g. COSMIC-1) "
   ]
  }
 ],
 "metadata": {
  "kernelspec": {
   "display_name": "Python 3",
   "language": "python",
   "name": "python3"
  },
  "language_info": {
   "codemirror_mode": {
    "name": "ipython",
    "version": 3
   },
   "file_extension": ".py",
   "mimetype": "text/x-python",
   "name": "python",
   "nbconvert_exporter": "python",
   "pygments_lexer": "ipython3",
   "version": "3.6.9"
  }
 },
 "nbformat": 4,
 "nbformat_minor": 2
}
